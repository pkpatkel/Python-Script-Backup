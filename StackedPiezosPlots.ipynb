{
 "cells": [
  {
   "cell_type": "code",
   "execution_count": 1,
   "metadata": {},
   "outputs": [],
   "source": [
    "import psycopg2\n",
    "import pandas as pd\n",
    "import pandas.io.sql as pd_sql\n",
    "from pandas import Series, DataFrame, Panel\n",
    "import psycopg2\n",
    "import matplotlib.pyplot as plt\n",
    "import matplotlib as mpl\n",
    "import numpy as np\n",
    "from matplotlib.backends.backend_pdf import PdfPages\n",
    "from pylab import *\n",
    "import matplotlib.dates as mdates\n",
    "import datetime as date\n",
    "import scipy.optimize\n",
    "import scipy.stats"
   ]
  },
  {
   "cell_type": "code",
   "execution_count": 14,
   "metadata": {},
   "outputs": [],
   "source": [
    "conn_pg = psycopg2.connect(\"dbname='goldrush' user='pkelly' host=192.168.19.206 password='pkellypkelly'\");\n",
    "fig, ax = plt.subplots()\n",
    "fig.set_size_inches(11,8.5)\n",
    "#ax = fig.add_subplot(111)\n",
    "pp = PdfPages('StackedWLs_'+date.datetime.now().strftime(\"%m_%d_%Y\")+'.pdf')"
   ]
  },
  {
   "cell_type": "code",
   "execution_count": 3,
   "metadata": {},
   "outputs": [],
   "source": [
    "## Create Layers File##\n",
    "layerz = { 'layer':[1,\t2,\t3,\t4,\t5,\t6,\t7,\t8,\t9,\t10,\t11,\t12,\t13,\t14,\t15,\t16,\t17,\t18,\t19,\t20,\t21,\t22,\t23,\t24], 'bottom_elev':[8050,\t7250,\t6600,\t6050,\t5850,\t5650,\t5450,\t5250,\t5050,\t4850,\t4650,\t4450,\t4250,\t4050,\t3850,\t3650,\t3450,\t3250,\t3050,\t2850,\t2650,\t2450,\t2250,\t2050]}\n",
    "layers = pd.DataFrame(layerz, columns=['layer','bottom_elev'])\n",
    "\n",
    "## Get list of hole names and measure locations##\n",
    "hole_names='''SELECT hole_name,measure_loc,rid FROM well_info ORDER BY hole_name;'''\n",
    "All_locs = pd_sql.read_frame(hole_names,conn_pg)\n",
    "#print Holes\n",
    "distinct_names='''SELECT DISTINCT(hole_name) FROM well_info ORDER BY hole_name;'''\n",
    "holes= pd_sql.read_frame(distinct_names,conn_pg)\n",
    "#Select out the measurement locations\n",
    "measure_mps = '''SELECT rid,mon_mp FROM transducer_fmn WHERE rid IS NOT NULL ORDER BY rid;'''\n",
    "Mon_locs = pd_sql.read_frame(measure_mps,conn_pg)"
   ]
  },
  {
   "cell_type": "code",
   "execution_count": 4,
   "metadata": {},
   "outputs": [],
   "source": [
    "##Query out all of the WL data: only need to do this once ##\n",
    "wldp='''SELECT * FROM water_level_elev_daily_poly ORDER BY piezo_id;'''\n",
    "WLs = pd_sql.read_frame(wldp,conn_pg)\n",
    "WLpivot = WLs.pivot(index='measured_date_day', columns='piezo_id', values='water_level_elev_daily_poly')\n",
    "WLpivot.to_excel('gw_pivot.xlsx')"
   ]
  },
  {
   "cell_type": "code",
   "execution_count": 15,
   "metadata": {},
   "outputs": [],
   "source": [
    "Cnt_WL=0\n",
    "first = True\n",
    "\n",
    "for hole in holes.ix[:,0]:\n",
    "\n",
    "    Cnt_WL+=1\n",
    "    piezo_list = All_locs.rid[All_locs.hole_name == hole]\n",
    "    time_series = WLs[WLs['piezo_id'].isin(piezo_list)] \n",
    "    measurelocs = Mon_locs[Mon_locs['rid'].isin(piezo_list)]\n",
    "    ts_piv = time_series.pivot(index='measured_date_day', columns='piezo_id', values='water_level_elev_daily_poly')\n",
    "    \n",
    "    ##Plot WLs##\n",
    "    ax = ts_piv.plot()\n",
    "    \n",
    "    try:\n",
    "        date_min,date_max = min(time_series.icol(1)), max(time_series.icol(1))\n",
    "        y_min,y_max = min(time_series.icol(2)), max(time_series.icol(2))\n",
    "        layer_min,layer_max = min(measurelocs.icol(1)), max(measurelocs.icol(1))\n",
    "        plot_layers = pd.concat([time_series.icol(2),measurelocs.icol(1)])\n",
    "        plot_min,plot_max = min(plot_layers),max(plot_layers)\n",
    "    \n",
    "    except:\n",
    "        continue\n",
    "        \n",
    "    for measure in measurelocs['mon_mp']:\n",
    "        ax.plot(date_min,measure, 'o')\n",
    "    \n",
    "    layer_cnt = 0 \n",
    "    for layer in layers.icol(1):\n",
    "        layer_cnt+=1\n",
    "        if plot_min < layer and layer < plot_max:\n",
    "            ax.plot((date_min, date_max),(layer,layer),'k--')\n",
    "            #time_series = layers[layers['bottom_elev'].isin(piezo_list)] \n",
    "            ax.annotate(layer_cnt, (mdates.date2num(date_min) + 20,layer), xytext=(15, 15), textcoords='offset points', arrowprops=dict(arrowstyle='-|>'))\n",
    "        #else \n",
    "\n",
    "        \n",
    "    #plt.show()\n",
    "    ax.ticklabel_format(axis='y',useOffset=False)\n",
    "    plt.xticks(rotation=70)\n",
    "    ax.xaxis.set_major_formatter(mdates.DateFormatter('%m-%d-%Y'))\n",
    "    ax.xaxis.set_major_locator(mdates.ticker.MaxNLocator(nbins=10))\n",
    "    \n",
    "    ax.set_xlabel('Date')\n",
    "    ax.set_ylabel('Water Level Elevation')\n",
    "    \n",
    "    fig.autofmt_xdate()\n",
    "    plt.tight_layout()\n",
    "    pp.savefig()\n",
    "    print(str(Cnt_WL+1)+' of '+str(len(holes)))\n",
    "    plt.clf()\n",
    "pp.close()"
   ]
  },
  {
   "cell_type": "code",
   "execution_count": 12,
   "metadata": {},
   "outputs": [
    {
     "ename": "TypeError",
     "evalue": "can't compare datetime.date to float",
     "output_type": "error",
     "traceback": [
      "\u001b[1;31m---------------------------------------------------------------------------\u001b[0m\n\u001b[1;31mTypeError\u001b[0m                                 Traceback (most recent call last)",
      "\u001b[1;32m<ipython-input-12-2169e61e086d>\u001b[0m in \u001b[0;36m<module>\u001b[1;34m()\u001b[0m\n\u001b[1;32m----> 1\u001b[1;33m \u001b[0mmin\u001b[0m\u001b[1;33m(\u001b[0m\u001b[0mplot_layers\u001b[0m\u001b[1;33m)\u001b[0m\u001b[1;33m\u001b[0m\u001b[0m\n\u001b[0m",
      "\u001b[1;31mTypeError\u001b[0m: can't compare datetime.date to float"
     ]
    }
   ],
   "source": [
    "min(plot_layers)"
   ]
  },
  {
   "cell_type": "code",
   "execution_count": 32,
   "metadata": {},
   "outputs": [
    {
     "name": "stdout",
     "output_type": "stream",
     "text": [
      "            rid       mon_mp\n",
      "0  GRC-0010D P1  4927.709088\n",
      "1  GRC-0010D P2  5466.742784\n",
      "2  GRC-0010D P3  6004.666942\n"
     ]
    }
   ],
   "source": [
    "print measurelocs"
   ]
  },
  {
   "cell_type": "code",
   "execution_count": 22,
   "metadata": {},
   "outputs": [
    {
     "data": {
      "text/plain": [
       "735223.0"
      ]
     },
     "execution_count": 22,
     "metadata": {},
     "output_type": "execute_result"
    }
   ],
   "source": [
    "mdates.date2num(date_min)"
   ]
  },
  {
   "cell_type": "code",
   "execution_count": 47,
   "metadata": {},
   "outputs": [
    {
     "name": "stdout",
     "output_type": "stream",
     "text": [
      "Empty DataFrame\n",
      "Columns: [rid, mon_mp]\n",
      "Index: []\n"
     ]
    }
   ],
   "source": [
    "print measurelocs"
   ]
  },
  {
   "cell_type": "code",
   "execution_count": 52,
   "metadata": {},
   "outputs": [
    {
     "data": {
      "text/plain": [
       "0"
      ]
     },
     "execution_count": 52,
     "metadata": {},
     "output_type": "execute_result"
    }
   ],
   "source": [
    "len(measurelocs.icol(1))"
   ]
  },
  {
   "cell_type": "code",
   "execution_count": null,
   "metadata": {},
   "outputs": [],
   "source": []
  }
 ],
 "metadata": {
  "kernelspec": {
   "display_name": "Python 3",
   "language": "python",
   "name": "python3"
  },
  "language_info": {
   "codemirror_mode": {
    "name": "ipython",
    "version": 3
   },
   "file_extension": ".py",
   "mimetype": "text/x-python",
   "name": "python",
   "nbconvert_exporter": "python",
   "pygments_lexer": "ipython3",
   "version": "3.6.1"
  }
 },
 "nbformat": 4,
 "nbformat_minor": 1
}
